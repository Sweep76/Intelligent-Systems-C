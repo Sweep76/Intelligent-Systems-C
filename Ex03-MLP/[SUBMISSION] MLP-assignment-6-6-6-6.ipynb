{
 "cells": [
  {
   "cell_type": "markdown",
   "metadata": {},
   "source": [
    "## **CS 4103 - Intelligent Systems**\n",
    "### Assignment 2 - Applications of MLP (Dibetes Dataset)\n",
    "### Submitted by: Wayne Matthew A. Dayata (20100215)"
   ]
  },
  {
   "cell_type": "code",
   "execution_count": 2,
   "metadata": {},
   "outputs": [
    {
     "name": "stdout",
     "output_type": "stream",
     "text": [
      "Date and time of code execution:  03/09/2023 23:26:01\n"
     ]
    }
   ],
   "source": [
    "## Print code execution time\n",
    "from datetime import datetime, timedelta\n",
    "\n",
    "now = datetime.now()\n",
    "dt_string = now.strftime(\"%d/%m/%Y %H:%M:%S\")\n",
    "print(\"Date and time of code execution: \", dt_string)"
   ]
  },
  {
   "cell_type": "markdown",
   "metadata": {
    "colab_type": "text",
    "id": "gWZyYmS_UE_L"
   },
   "source": [
    "### Importing the libraries"
   ]
  },
  {
   "cell_type": "code",
   "execution_count": 3,
   "metadata": {
    "colab": {},
    "colab_type": "code",
    "id": "MxkJoQBkUIHC"
   },
   "outputs": [
    {
     "name": "stdout",
     "output_type": "stream",
     "text": [
      "Modules loaded\n"
     ]
    }
   ],
   "source": [
    "import numpy as np\n",
    "import pandas as pd\n",
    "import tensorflow as tf\n",
    "\n",
    "import matplotlib.pyplot as plt\n",
    "from sklearn.preprocessing import LabelEncoder\n",
    "from sklearn.compose import ColumnTransformer\n",
    "from sklearn.preprocessing import OneHotEncoder\n",
    "from sklearn.preprocessing import StandardScaler\n",
    "\n",
    "from sklearn.model_selection import train_test_split\n",
    "from sklearn.metrics import confusion_matrix, classification_report\n",
    "from sklearn.metrics import accuracy_score, precision_score, recall_score, f1_score\n",
    "\n",
    "import warnings\n",
    "warnings.filterwarnings(\"ignore\")\n",
    "print(\"Modules loaded\")"
   ]
  },
  {
   "cell_type": "markdown",
   "metadata": {},
   "source": [
    "# Diabetes Prediction Dataset\n",
    "---\n",
    "The Diabetes prediction dataset is a collection of medical and demographic data from patients, along with their diabetes status (positive or negative). The data includes features such as age, gender, body mass index (BMI), hypertension, heart disease, smoking history, HbA1c level, and blood glucose level. This dataset can be used to build machine learning models to predict diabetes in patients based on their medical history and demographic information. This can be useful for healthcare professionals in identifying patients who may be at risk of developing diabetes and in developing personalized treatment plans. Additionally, the dataset can be used by researchers to explore the relationships between various medical and demographic factors and the likelihood of developing diabetes."
   ]
  },
  {
   "cell_type": "markdown",
   "metadata": {
    "colab_type": "text",
    "id": "1E0Q3aoKUCRX"
   },
   "source": [
    "## Part 1 - Data Preprocessing"
   ]
  },
  {
   "cell_type": "markdown",
   "metadata": {
    "colab_type": "text",
    "id": "cKWAkFVGUU0Z"
   },
   "source": [
    "### Importing the dataset"
   ]
  },
  {
   "cell_type": "code",
   "execution_count": 4,
   "metadata": {
    "colab": {},
    "colab_type": "code",
    "id": "MXUkhkMfU4wq"
   },
   "outputs": [],
   "source": [
    "dataset = pd.read_csv('diabetes_prediction_dataset.csv')"
   ]
  },
  {
   "cell_type": "code",
   "execution_count": 5,
   "metadata": {},
   "outputs": [
    {
     "data": {
      "text/html": [
       "<div>\n",
       "<style scoped>\n",
       "    .dataframe tbody tr th:only-of-type {\n",
       "        vertical-align: middle;\n",
       "    }\n",
       "\n",
       "    .dataframe tbody tr th {\n",
       "        vertical-align: top;\n",
       "    }\n",
       "\n",
       "    .dataframe thead th {\n",
       "        text-align: right;\n",
       "    }\n",
       "</style>\n",
       "<table border=\"1\" class=\"dataframe\">\n",
       "  <thead>\n",
       "    <tr style=\"text-align: right;\">\n",
       "      <th></th>\n",
       "      <th>gender</th>\n",
       "      <th>age</th>\n",
       "      <th>hypertension</th>\n",
       "      <th>heart_disease</th>\n",
       "      <th>smoking_history</th>\n",
       "      <th>bmi</th>\n",
       "      <th>HbA1c_level</th>\n",
       "      <th>blood_glucose_level</th>\n",
       "      <th>diabetes</th>\n",
       "    </tr>\n",
       "  </thead>\n",
       "  <tbody>\n",
       "    <tr>\n",
       "      <th>0</th>\n",
       "      <td>Female</td>\n",
       "      <td>80.0</td>\n",
       "      <td>0</td>\n",
       "      <td>1</td>\n",
       "      <td>never</td>\n",
       "      <td>25.19</td>\n",
       "      <td>6.6</td>\n",
       "      <td>140</td>\n",
       "      <td>0</td>\n",
       "    </tr>\n",
       "    <tr>\n",
       "      <th>1</th>\n",
       "      <td>Female</td>\n",
       "      <td>54.0</td>\n",
       "      <td>0</td>\n",
       "      <td>0</td>\n",
       "      <td>No Info</td>\n",
       "      <td>27.32</td>\n",
       "      <td>6.6</td>\n",
       "      <td>80</td>\n",
       "      <td>0</td>\n",
       "    </tr>\n",
       "    <tr>\n",
       "      <th>2</th>\n",
       "      <td>Male</td>\n",
       "      <td>28.0</td>\n",
       "      <td>0</td>\n",
       "      <td>0</td>\n",
       "      <td>never</td>\n",
       "      <td>27.32</td>\n",
       "      <td>5.7</td>\n",
       "      <td>158</td>\n",
       "      <td>0</td>\n",
       "    </tr>\n",
       "    <tr>\n",
       "      <th>3</th>\n",
       "      <td>Female</td>\n",
       "      <td>36.0</td>\n",
       "      <td>0</td>\n",
       "      <td>0</td>\n",
       "      <td>current</td>\n",
       "      <td>23.45</td>\n",
       "      <td>5.0</td>\n",
       "      <td>155</td>\n",
       "      <td>0</td>\n",
       "    </tr>\n",
       "    <tr>\n",
       "      <th>4</th>\n",
       "      <td>Male</td>\n",
       "      <td>76.0</td>\n",
       "      <td>1</td>\n",
       "      <td>1</td>\n",
       "      <td>current</td>\n",
       "      <td>20.14</td>\n",
       "      <td>4.8</td>\n",
       "      <td>155</td>\n",
       "      <td>0</td>\n",
       "    </tr>\n",
       "    <tr>\n",
       "      <th>...</th>\n",
       "      <td>...</td>\n",
       "      <td>...</td>\n",
       "      <td>...</td>\n",
       "      <td>...</td>\n",
       "      <td>...</td>\n",
       "      <td>...</td>\n",
       "      <td>...</td>\n",
       "      <td>...</td>\n",
       "      <td>...</td>\n",
       "    </tr>\n",
       "    <tr>\n",
       "      <th>99995</th>\n",
       "      <td>Female</td>\n",
       "      <td>80.0</td>\n",
       "      <td>0</td>\n",
       "      <td>0</td>\n",
       "      <td>No Info</td>\n",
       "      <td>27.32</td>\n",
       "      <td>6.2</td>\n",
       "      <td>90</td>\n",
       "      <td>0</td>\n",
       "    </tr>\n",
       "    <tr>\n",
       "      <th>99996</th>\n",
       "      <td>Female</td>\n",
       "      <td>2.0</td>\n",
       "      <td>0</td>\n",
       "      <td>0</td>\n",
       "      <td>No Info</td>\n",
       "      <td>17.37</td>\n",
       "      <td>6.5</td>\n",
       "      <td>100</td>\n",
       "      <td>0</td>\n",
       "    </tr>\n",
       "    <tr>\n",
       "      <th>99997</th>\n",
       "      <td>Male</td>\n",
       "      <td>66.0</td>\n",
       "      <td>0</td>\n",
       "      <td>0</td>\n",
       "      <td>former</td>\n",
       "      <td>27.83</td>\n",
       "      <td>5.7</td>\n",
       "      <td>155</td>\n",
       "      <td>0</td>\n",
       "    </tr>\n",
       "    <tr>\n",
       "      <th>99998</th>\n",
       "      <td>Female</td>\n",
       "      <td>24.0</td>\n",
       "      <td>0</td>\n",
       "      <td>0</td>\n",
       "      <td>never</td>\n",
       "      <td>35.42</td>\n",
       "      <td>4.0</td>\n",
       "      <td>100</td>\n",
       "      <td>0</td>\n",
       "    </tr>\n",
       "    <tr>\n",
       "      <th>99999</th>\n",
       "      <td>Female</td>\n",
       "      <td>57.0</td>\n",
       "      <td>0</td>\n",
       "      <td>0</td>\n",
       "      <td>current</td>\n",
       "      <td>22.43</td>\n",
       "      <td>6.6</td>\n",
       "      <td>90</td>\n",
       "      <td>0</td>\n",
       "    </tr>\n",
       "  </tbody>\n",
       "</table>\n",
       "<p>100000 rows × 9 columns</p>\n",
       "</div>"
      ],
      "text/plain": [
       "       gender   age  hypertension  heart_disease smoking_history    bmi  \\\n",
       "0      Female  80.0             0              1           never  25.19   \n",
       "1      Female  54.0             0              0         No Info  27.32   \n",
       "2        Male  28.0             0              0           never  27.32   \n",
       "3      Female  36.0             0              0         current  23.45   \n",
       "4        Male  76.0             1              1         current  20.14   \n",
       "...       ...   ...           ...            ...             ...    ...   \n",
       "99995  Female  80.0             0              0         No Info  27.32   \n",
       "99996  Female   2.0             0              0         No Info  17.37   \n",
       "99997    Male  66.0             0              0          former  27.83   \n",
       "99998  Female  24.0             0              0           never  35.42   \n",
       "99999  Female  57.0             0              0         current  22.43   \n",
       "\n",
       "       HbA1c_level  blood_glucose_level  diabetes  \n",
       "0              6.6                  140         0  \n",
       "1              6.6                   80         0  \n",
       "2              5.7                  158         0  \n",
       "3              5.0                  155         0  \n",
       "4              4.8                  155         0  \n",
       "...            ...                  ...       ...  \n",
       "99995          6.2                   90         0  \n",
       "99996          6.5                  100         0  \n",
       "99997          5.7                  155         0  \n",
       "99998          4.0                  100         0  \n",
       "99999          6.6                   90         0  \n",
       "\n",
       "[100000 rows x 9 columns]"
      ]
     },
     "execution_count": 5,
     "metadata": {},
     "output_type": "execute_result"
    }
   ],
   "source": [
    "dataset"
   ]
  },
  {
   "cell_type": "code",
   "execution_count": 6,
   "metadata": {},
   "outputs": [],
   "source": [
    "X = dataset.iloc[:, 0:-1].values\n",
    "y = dataset.iloc[:, -1].values"
   ]
  },
  {
   "cell_type": "code",
   "execution_count": 7,
   "metadata": {},
   "outputs": [
    {
     "data": {
      "text/html": [
       "<div>\n",
       "<style scoped>\n",
       "    .dataframe tbody tr th:only-of-type {\n",
       "        vertical-align: middle;\n",
       "    }\n",
       "\n",
       "    .dataframe tbody tr th {\n",
       "        vertical-align: top;\n",
       "    }\n",
       "\n",
       "    .dataframe thead th {\n",
       "        text-align: right;\n",
       "    }\n",
       "</style>\n",
       "<table border=\"1\" class=\"dataframe\">\n",
       "  <thead>\n",
       "    <tr style=\"text-align: right;\">\n",
       "      <th></th>\n",
       "      <th>Gender</th>\n",
       "      <th>Age</th>\n",
       "      <th>Hypertension</th>\n",
       "      <th>HeartDisease</th>\n",
       "      <th>SmokingHistory</th>\n",
       "      <th>BMI</th>\n",
       "      <th>HbA1cLevel</th>\n",
       "      <th>BloodGlucoseLevel</th>\n",
       "    </tr>\n",
       "  </thead>\n",
       "  <tbody>\n",
       "    <tr>\n",
       "      <th>0</th>\n",
       "      <td>Female</td>\n",
       "      <td>80.0</td>\n",
       "      <td>0</td>\n",
       "      <td>1</td>\n",
       "      <td>never</td>\n",
       "      <td>25.19</td>\n",
       "      <td>6.6</td>\n",
       "      <td>140</td>\n",
       "    </tr>\n",
       "    <tr>\n",
       "      <th>1</th>\n",
       "      <td>Female</td>\n",
       "      <td>54.0</td>\n",
       "      <td>0</td>\n",
       "      <td>0</td>\n",
       "      <td>No Info</td>\n",
       "      <td>27.32</td>\n",
       "      <td>6.6</td>\n",
       "      <td>80</td>\n",
       "    </tr>\n",
       "    <tr>\n",
       "      <th>2</th>\n",
       "      <td>Male</td>\n",
       "      <td>28.0</td>\n",
       "      <td>0</td>\n",
       "      <td>0</td>\n",
       "      <td>never</td>\n",
       "      <td>27.32</td>\n",
       "      <td>5.7</td>\n",
       "      <td>158</td>\n",
       "    </tr>\n",
       "    <tr>\n",
       "      <th>3</th>\n",
       "      <td>Female</td>\n",
       "      <td>36.0</td>\n",
       "      <td>0</td>\n",
       "      <td>0</td>\n",
       "      <td>current</td>\n",
       "      <td>23.45</td>\n",
       "      <td>5.0</td>\n",
       "      <td>155</td>\n",
       "    </tr>\n",
       "    <tr>\n",
       "      <th>4</th>\n",
       "      <td>Male</td>\n",
       "      <td>76.0</td>\n",
       "      <td>1</td>\n",
       "      <td>1</td>\n",
       "      <td>current</td>\n",
       "      <td>20.14</td>\n",
       "      <td>4.8</td>\n",
       "      <td>155</td>\n",
       "    </tr>\n",
       "    <tr>\n",
       "      <th>...</th>\n",
       "      <td>...</td>\n",
       "      <td>...</td>\n",
       "      <td>...</td>\n",
       "      <td>...</td>\n",
       "      <td>...</td>\n",
       "      <td>...</td>\n",
       "      <td>...</td>\n",
       "      <td>...</td>\n",
       "    </tr>\n",
       "    <tr>\n",
       "      <th>99995</th>\n",
       "      <td>Female</td>\n",
       "      <td>80.0</td>\n",
       "      <td>0</td>\n",
       "      <td>0</td>\n",
       "      <td>No Info</td>\n",
       "      <td>27.32</td>\n",
       "      <td>6.2</td>\n",
       "      <td>90</td>\n",
       "    </tr>\n",
       "    <tr>\n",
       "      <th>99996</th>\n",
       "      <td>Female</td>\n",
       "      <td>2.0</td>\n",
       "      <td>0</td>\n",
       "      <td>0</td>\n",
       "      <td>No Info</td>\n",
       "      <td>17.37</td>\n",
       "      <td>6.5</td>\n",
       "      <td>100</td>\n",
       "    </tr>\n",
       "    <tr>\n",
       "      <th>99997</th>\n",
       "      <td>Male</td>\n",
       "      <td>66.0</td>\n",
       "      <td>0</td>\n",
       "      <td>0</td>\n",
       "      <td>former</td>\n",
       "      <td>27.83</td>\n",
       "      <td>5.7</td>\n",
       "      <td>155</td>\n",
       "    </tr>\n",
       "    <tr>\n",
       "      <th>99998</th>\n",
       "      <td>Female</td>\n",
       "      <td>24.0</td>\n",
       "      <td>0</td>\n",
       "      <td>0</td>\n",
       "      <td>never</td>\n",
       "      <td>35.42</td>\n",
       "      <td>4.0</td>\n",
       "      <td>100</td>\n",
       "    </tr>\n",
       "    <tr>\n",
       "      <th>99999</th>\n",
       "      <td>Female</td>\n",
       "      <td>57.0</td>\n",
       "      <td>0</td>\n",
       "      <td>0</td>\n",
       "      <td>current</td>\n",
       "      <td>22.43</td>\n",
       "      <td>6.6</td>\n",
       "      <td>90</td>\n",
       "    </tr>\n",
       "  </tbody>\n",
       "</table>\n",
       "<p>100000 rows × 8 columns</p>\n",
       "</div>"
      ],
      "text/plain": [
       "       Gender   Age Hypertension HeartDisease SmokingHistory    BMI  \\\n",
       "0      Female  80.0            0            1          never  25.19   \n",
       "1      Female  54.0            0            0        No Info  27.32   \n",
       "2        Male  28.0            0            0          never  27.32   \n",
       "3      Female  36.0            0            0        current  23.45   \n",
       "4        Male  76.0            1            1        current  20.14   \n",
       "...       ...   ...          ...          ...            ...    ...   \n",
       "99995  Female  80.0            0            0        No Info  27.32   \n",
       "99996  Female   2.0            0            0        No Info  17.37   \n",
       "99997    Male  66.0            0            0         former  27.83   \n",
       "99998  Female  24.0            0            0          never  35.42   \n",
       "99999  Female  57.0            0            0        current  22.43   \n",
       "\n",
       "      HbA1cLevel BloodGlucoseLevel  \n",
       "0            6.6               140  \n",
       "1            6.6                80  \n",
       "2            5.7               158  \n",
       "3            5.0               155  \n",
       "4            4.8               155  \n",
       "...          ...               ...  \n",
       "99995        6.2                90  \n",
       "99996        6.5               100  \n",
       "99997        5.7               155  \n",
       "99998        4.0               100  \n",
       "99999        6.6                90  \n",
       "\n",
       "[100000 rows x 8 columns]"
      ]
     },
     "execution_count": 7,
     "metadata": {},
     "output_type": "execute_result"
    }
   ],
   "source": [
    "pd.DataFrame(X, columns = [\"Gender\",\"Age\",\"Hypertension\",\"HeartDisease\",\"SmokingHistory\",\"BMI\",\"HbA1cLevel\",\"BloodGlucoseLevel\"])"
   ]
  },
  {
   "cell_type": "code",
   "execution_count": 8,
   "metadata": {},
   "outputs": [
    {
     "data": {
      "text/html": [
       "<div>\n",
       "<style scoped>\n",
       "    .dataframe tbody tr th:only-of-type {\n",
       "        vertical-align: middle;\n",
       "    }\n",
       "\n",
       "    .dataframe tbody tr th {\n",
       "        vertical-align: top;\n",
       "    }\n",
       "\n",
       "    .dataframe thead th {\n",
       "        text-align: right;\n",
       "    }\n",
       "</style>\n",
       "<table border=\"1\" class=\"dataframe\">\n",
       "  <thead>\n",
       "    <tr style=\"text-align: right;\">\n",
       "      <th></th>\n",
       "      <th>Diabetes</th>\n",
       "    </tr>\n",
       "  </thead>\n",
       "  <tbody>\n",
       "    <tr>\n",
       "      <th>0</th>\n",
       "      <td>0</td>\n",
       "    </tr>\n",
       "    <tr>\n",
       "      <th>1</th>\n",
       "      <td>0</td>\n",
       "    </tr>\n",
       "    <tr>\n",
       "      <th>2</th>\n",
       "      <td>0</td>\n",
       "    </tr>\n",
       "    <tr>\n",
       "      <th>3</th>\n",
       "      <td>0</td>\n",
       "    </tr>\n",
       "    <tr>\n",
       "      <th>4</th>\n",
       "      <td>0</td>\n",
       "    </tr>\n",
       "    <tr>\n",
       "      <th>...</th>\n",
       "      <td>...</td>\n",
       "    </tr>\n",
       "    <tr>\n",
       "      <th>99995</th>\n",
       "      <td>0</td>\n",
       "    </tr>\n",
       "    <tr>\n",
       "      <th>99996</th>\n",
       "      <td>0</td>\n",
       "    </tr>\n",
       "    <tr>\n",
       "      <th>99997</th>\n",
       "      <td>0</td>\n",
       "    </tr>\n",
       "    <tr>\n",
       "      <th>99998</th>\n",
       "      <td>0</td>\n",
       "    </tr>\n",
       "    <tr>\n",
       "      <th>99999</th>\n",
       "      <td>0</td>\n",
       "    </tr>\n",
       "  </tbody>\n",
       "</table>\n",
       "<p>100000 rows × 1 columns</p>\n",
       "</div>"
      ],
      "text/plain": [
       "       Diabetes\n",
       "0             0\n",
       "1             0\n",
       "2             0\n",
       "3             0\n",
       "4             0\n",
       "...         ...\n",
       "99995         0\n",
       "99996         0\n",
       "99997         0\n",
       "99998         0\n",
       "99999         0\n",
       "\n",
       "[100000 rows x 1 columns]"
      ]
     },
     "execution_count": 8,
     "metadata": {},
     "output_type": "execute_result"
    }
   ],
   "source": [
    "pd.DataFrame(y, columns = [\"Diabetes\"])"
   ]
  },
  {
   "cell_type": "code",
   "execution_count": 9,
   "metadata": {
    "colab": {
     "base_uri": "https://localhost:8080/",
     "height": 137
    },
    "colab_type": "code",
    "id": "VYP9cQTWbzuI",
    "outputId": "797e7a64-9bac-436a-8c9c-94437e5e7587"
   },
   "outputs": [
    {
     "data": {
      "text/plain": [
       "array([['Female', 80.0, 0, ..., 25.19, 6.6, 140],\n",
       "       ['Female', 54.0, 0, ..., 27.32, 6.6, 80],\n",
       "       ['Male', 28.0, 0, ..., 27.32, 5.7, 158],\n",
       "       ...,\n",
       "       ['Male', 66.0, 0, ..., 27.83, 5.7, 155],\n",
       "       ['Female', 24.0, 0, ..., 35.42, 4.0, 100],\n",
       "       ['Female', 57.0, 0, ..., 22.43, 6.6, 90]], dtype=object)"
      ]
     },
     "execution_count": 9,
     "metadata": {},
     "output_type": "execute_result"
    }
   ],
   "source": [
    "X"
   ]
  },
  {
   "cell_type": "code",
   "execution_count": 10,
   "metadata": {
    "colab": {
     "base_uri": "https://localhost:8080/",
     "height": 34
    },
    "colab_type": "code",
    "id": "38vKGE6Nb2RR",
    "outputId": "a815e42a-e0dd-4cb5-ab97-b17ead98fbc3"
   },
   "outputs": [
    {
     "data": {
      "text/plain": [
       "array([0, 0, 0, ..., 0, 0, 0], dtype=int64)"
      ]
     },
     "execution_count": 10,
     "metadata": {},
     "output_type": "execute_result"
    }
   ],
   "source": [
    "y"
   ]
  },
  {
   "cell_type": "markdown",
   "metadata": {
    "colab_type": "text",
    "id": "N6bQ0UgSU-NJ"
   },
   "source": [
    "### Encoding categorical data"
   ]
  },
  {
   "cell_type": "markdown",
   "metadata": {
    "colab_type": "text",
    "id": "le5MJreAbW52"
   },
   "source": [
    "Label Encoding the \"Gender\" column"
   ]
  },
  {
   "cell_type": "code",
   "execution_count": 11,
   "metadata": {
    "colab": {},
    "colab_type": "code",
    "id": "PxVKWXxLbczC"
   },
   "outputs": [],
   "source": [
    "le = LabelEncoder()\n",
    "X[:, 0] = le.fit_transform(X[:, 0])"
   ]
  },
  {
   "cell_type": "code",
   "execution_count": 12,
   "metadata": {
    "colab": {
     "base_uri": "https://localhost:8080/",
     "height": 137
    },
    "colab_type": "code",
    "id": "-M1KboxFb6OO",
    "outputId": "e2b8c7e8-0cbc-4cdf-f4eb-7f0853a00b88"
   },
   "outputs": [
    {
     "name": "stdout",
     "output_type": "stream",
     "text": [
      "[[0 80.0 0 ... 25.19 6.6 140]\n",
      " [0 54.0 0 ... 27.32 6.6 80]\n",
      " [1 28.0 0 ... 27.32 5.7 158]\n",
      " ...\n",
      " [1 66.0 0 ... 27.83 5.7 155]\n",
      " [0 24.0 0 ... 35.42 4.0 100]\n",
      " [0 57.0 0 ... 22.43 6.6 90]]\n"
     ]
    }
   ],
   "source": [
    "print(X)"
   ]
  },
  {
   "cell_type": "markdown",
   "metadata": {
    "colab_type": "text",
    "id": "CUxGZezpbMcb"
   },
   "source": [
    "One Hot Encoding the \"Smoking History\" column"
   ]
  },
  {
   "cell_type": "code",
   "execution_count": 13,
   "metadata": {
    "colab": {},
    "colab_type": "code",
    "id": "AMXC8-KMVirw"
   },
   "outputs": [],
   "source": [
    "ct = ColumnTransformer(transformers=[('encoder', OneHotEncoder(), [4])], remainder='passthrough')\n",
    "X = np.array(ct.fit_transform(X))"
   ]
  },
  {
   "cell_type": "code",
   "execution_count": 14,
   "metadata": {
    "colab": {
     "base_uri": "https://localhost:8080/",
     "height": 137
    },
    "colab_type": "code",
    "id": "ZcxwEon-b8nV",
    "outputId": "23a98af4-5e33-4b26-c27b-f06e3c5d2baf"
   },
   "outputs": [
    {
     "name": "stdout",
     "output_type": "stream",
     "text": [
      "[[0.0 0.0 0.0 ... 25.19 6.6 140]\n",
      " [1.0 0.0 0.0 ... 27.32 6.6 80]\n",
      " [0.0 0.0 0.0 ... 27.32 5.7 158]\n",
      " ...\n",
      " [0.0 0.0 0.0 ... 27.83 5.7 155]\n",
      " [0.0 0.0 0.0 ... 35.42 4.0 100]\n",
      " [0.0 1.0 0.0 ... 22.43 6.6 90]]\n"
     ]
    }
   ],
   "source": [
    "print(X)"
   ]
  },
  {
   "cell_type": "markdown",
   "metadata": {
    "colab_type": "text",
    "id": "vHol938cW8zd"
   },
   "source": [
    "### Splitting the dataset into the Training set and Test set"
   ]
  },
  {
   "cell_type": "code",
   "execution_count": 15,
   "metadata": {
    "colab": {},
    "colab_type": "code",
    "id": "Z-TDt0Y_XEfc"
   },
   "outputs": [],
   "source": [
    "X_train, X_test, y_train, y_test = train_test_split(X, y, test_size = 0.2, random_state = 0)"
   ]
  },
  {
   "cell_type": "markdown",
   "metadata": {
    "colab_type": "text",
    "id": "RE_FcHyfV3TQ"
   },
   "source": [
    "### Feature Scaling"
   ]
  },
  {
   "cell_type": "code",
   "execution_count": 16,
   "metadata": {
    "colab": {},
    "colab_type": "code",
    "id": "ViCrE00rV8Sk"
   },
   "outputs": [],
   "source": [
    "sc = StandardScaler()\n",
    "X_train = sc.fit_transform(X_train)\n",
    "X_test = sc.transform(X_test)"
   ]
  },
  {
   "cell_type": "code",
   "execution_count": 17,
   "metadata": {},
   "outputs": [
    {
     "name": "stdout",
     "output_type": "stream",
     "text": [
      "Train set length: 80000\n",
      "Test set length: 20000\n"
     ]
    }
   ],
   "source": [
    "print(\"Train set length: \" + str(len(X_train)))\n",
    "print(\"Test set length: \" + str(len(X_test)))"
   ]
  },
  {
   "cell_type": "markdown",
   "metadata": {
    "colab_type": "text",
    "id": "-zfEzkRVXIwF"
   },
   "source": [
    "## Part 2 - Building the ANN"
   ]
  },
  {
   "cell_type": "markdown",
   "metadata": {
    "colab_type": "text",
    "id": "KvdeScabXtlB"
   },
   "source": [
    "### Initializing the ANN and its layers"
   ]
  },
  {
   "cell_type": "code",
   "execution_count": 18,
   "metadata": {
    "colab": {},
    "colab_type": "code",
    "id": "3dtrScHxXQox"
   },
   "outputs": [],
   "source": [
    "ann = tf.keras.models.Sequential([\n",
    "    tf.keras.layers.Dense(units=6, activation='relu'),   # Input layer\n",
    "    tf.keras.layers.Dense(units=6, activation='softmax'),   # Hidden layer\n",
    "    tf.keras.layers.Dense(units=6, activation='relu'),   # Hidden layer\n",
    "    tf.keras.layers.Dense(units=6, activation='softmax'),   # Hidden layer\n",
    "    tf.keras.layers.Dense(units=1, activation='sigmoid') # Output layer\n",
    "])"
   ]
  },
  {
   "cell_type": "code",
   "execution_count": 19,
   "metadata": {
    "colab": {},
    "colab_type": "code",
    "id": "fG3RrwDXZEaS"
   },
   "outputs": [],
   "source": [
    "ann.compile(optimizer = 'adamax', loss = 'binary_crossentropy', metrics = ['accuracy'])"
   ]
  },
  {
   "cell_type": "markdown",
   "metadata": {
    "colab_type": "text",
    "id": "JT4u2S1_Y4WG"
   },
   "source": [
    "## Part 3 - Training the ANN"
   ]
  },
  {
   "cell_type": "markdown",
   "metadata": {
    "colab_type": "text",
    "id": "0QR_G5u7ZLSM"
   },
   "source": [
    "### Training the ANN on the Training set"
   ]
  },
  {
   "cell_type": "code",
   "execution_count": 20,
   "metadata": {
    "colab": {
     "base_uri": "https://localhost:8080/",
     "height": 1000
    },
    "colab_type": "code",
    "id": "nHZ-LKv_ZRb3",
    "outputId": "718cc4b0-b5aa-40f0-9b20-d3d31730a531"
   },
   "outputs": [
    {
     "name": "stdout",
     "output_type": "stream",
     "text": [
      "Epoch 1/40\n"
     ]
    },
    {
     "name": "stdout",
     "output_type": "stream",
     "text": [
      "2500/2500 [==============================] - 23s 6ms/step - loss: 0.3091 - accuracy: 0.9000\n",
      "Epoch 2/40\n",
      "2500/2500 [==============================] - 14s 5ms/step - loss: 0.1608 - accuracy: 0.9371\n",
      "Epoch 3/40\n",
      "2500/2500 [==============================] - 14s 6ms/step - loss: 0.1439 - accuracy: 0.9554\n",
      "Epoch 4/40\n",
      "2500/2500 [==============================] - 14s 6ms/step - loss: 0.1367 - accuracy: 0.9564\n",
      "Epoch 5/40\n",
      "2500/2500 [==============================] - 11s 4ms/step - loss: 0.1317 - accuracy: 0.9573\n",
      "Epoch 6/40\n",
      "2500/2500 [==============================] - 14s 6ms/step - loss: 0.1280 - accuracy: 0.9583\n",
      "Epoch 7/40\n",
      "2500/2500 [==============================] - 15s 6ms/step - loss: 0.1252 - accuracy: 0.9589\n",
      "Epoch 8/40\n",
      "2500/2500 [==============================] - 15s 6ms/step - loss: 0.1231 - accuracy: 0.9592\n",
      "Epoch 9/40\n",
      "2500/2500 [==============================] - 16s 6ms/step - loss: 0.1215 - accuracy: 0.9597\n",
      "Epoch 10/40\n",
      "2500/2500 [==============================] - 17s 7ms/step - loss: 0.1203 - accuracy: 0.9599\n",
      "Epoch 11/40\n",
      "2500/2500 [==============================] - 16s 7ms/step - loss: 0.1195 - accuracy: 0.9602\n",
      "Epoch 12/40\n",
      "2500/2500 [==============================] - 45s 18ms/step - loss: 0.1187 - accuracy: 0.9600\n",
      "Epoch 13/40\n",
      "2500/2500 [==============================] - 35s 14ms/step - loss: 0.1181 - accuracy: 0.9603\n",
      "Epoch 14/40\n",
      "2500/2500 [==============================] - 22s 9ms/step - loss: 0.1176 - accuracy: 0.9603\n",
      "Epoch 15/40\n",
      "2500/2500 [==============================] - 18s 7ms/step - loss: 0.1171 - accuracy: 0.9604\n",
      "Epoch 16/40\n",
      "2500/2500 [==============================] - 25s 10ms/step - loss: 0.1166 - accuracy: 0.9606\n",
      "Epoch 17/40\n",
      "2500/2500 [==============================] - 29s 11ms/step - loss: 0.1164 - accuracy: 0.9607\n",
      "Epoch 18/40\n",
      "2500/2500 [==============================] - 19s 8ms/step - loss: 0.1160 - accuracy: 0.9606\n",
      "Epoch 19/40\n",
      "2500/2500 [==============================] - 17s 7ms/step - loss: 0.1156 - accuracy: 0.9604\n",
      "Epoch 20/40\n",
      "2500/2500 [==============================] - 29s 12ms/step - loss: 0.1153 - accuracy: 0.9608\n",
      "Epoch 21/40\n",
      "2500/2500 [==============================] - 19s 7ms/step - loss: 0.1150 - accuracy: 0.9607\n",
      "Epoch 22/40\n",
      "2500/2500 [==============================] - 16s 6ms/step - loss: 0.1148 - accuracy: 0.9605\n",
      "Epoch 23/40\n",
      "2500/2500 [==============================] - 17s 7ms/step - loss: 0.1143 - accuracy: 0.9608\n",
      "Epoch 24/40\n",
      "2500/2500 [==============================] - 18s 7ms/step - loss: 0.1143 - accuracy: 0.9607\n",
      "Epoch 25/40\n",
      "2500/2500 [==============================] - 17s 7ms/step - loss: 0.1140 - accuracy: 0.9609\n",
      "Epoch 26/40\n",
      "2500/2500 [==============================] - 15s 6ms/step - loss: 0.1137 - accuracy: 0.9612\n",
      "Epoch 27/40\n",
      "2500/2500 [==============================] - 17s 7ms/step - loss: 0.1136 - accuracy: 0.9611\n",
      "Epoch 28/40\n",
      "2500/2500 [==============================] - 21s 8ms/step - loss: 0.1134 - accuracy: 0.9609\n",
      "Epoch 29/40\n",
      "2500/2500 [==============================] - 23s 9ms/step - loss: 0.1131 - accuracy: 0.9613\n",
      "Epoch 30/40\n",
      "2500/2500 [==============================] - 19s 7ms/step - loss: 0.1130 - accuracy: 0.9610\n",
      "Epoch 31/40\n",
      "2500/2500 [==============================] - 21s 8ms/step - loss: 0.1128 - accuracy: 0.9612\n",
      "Epoch 32/40\n",
      "2500/2500 [==============================] - 17s 7ms/step - loss: 0.1126 - accuracy: 0.9612\n",
      "Epoch 33/40\n",
      "2500/2500 [==============================] - 14s 6ms/step - loss: 0.1124 - accuracy: 0.9610\n",
      "Epoch 34/40\n",
      "2500/2500 [==============================] - 17s 7ms/step - loss: 0.1123 - accuracy: 0.9610\n",
      "Epoch 35/40\n",
      "2500/2500 [==============================] - 40s 16ms/step - loss: 0.1121 - accuracy: 0.9611\n",
      "Epoch 36/40\n",
      "2500/2500 [==============================] - 189s 76ms/step - loss: 0.1120 - accuracy: 0.9613\n",
      "Epoch 37/40\n",
      "2500/2500 [==============================] - 25s 10ms/step - loss: 0.1118 - accuracy: 0.9613\n",
      "Epoch 38/40\n",
      "2500/2500 [==============================] - 60s 24ms/step - loss: 0.1117 - accuracy: 0.9613\n",
      "Epoch 39/40\n",
      "2500/2500 [==============================] - 9s 4ms/step - loss: 0.1116 - accuracy: 0.9615\n",
      "Epoch 40/40\n",
      "2500/2500 [==============================] - 10s 4ms/step - loss: 0.1114 - accuracy: 0.9614\n"
     ]
    },
    {
     "data": {
      "text/plain": [
       "<keras.src.callbacks.History at 0x27782748280>"
      ]
     },
     "execution_count": 20,
     "metadata": {},
     "output_type": "execute_result"
    }
   ],
   "source": [
    "ann.fit(X_train, y_train, batch_size = 32, epochs = 40)"
   ]
  },
  {
   "cell_type": "markdown",
   "metadata": {
    "colab_type": "text",
    "id": "tJj5k2MxZga3"
   },
   "source": [
    "## Part 4 - Making the predictions and evaluating the model"
   ]
  },
  {
   "cell_type": "markdown",
   "metadata": {
    "colab_type": "text",
    "id": "u7yx47jPZt11"
   },
   "source": [
    "### Predicting the Test set results"
   ]
  },
  {
   "cell_type": "code",
   "execution_count": 21,
   "metadata": {
    "colab": {
     "base_uri": "https://localhost:8080/",
     "height": 137
    },
    "colab_type": "code",
    "id": "nIyEeQdRZwgs",
    "outputId": "82330ba8-9bdc-4fd1-d3cf-b6d78ee7c2a3"
   },
   "outputs": [
    {
     "name": "stdout",
     "output_type": "stream",
     "text": [
      "625/625 [==============================] - 2s 2ms/step\n",
      "[[0 0]\n",
      " [0 0]\n",
      " [0 0]\n",
      " ...\n",
      " [0 0]\n",
      " [0 0]\n",
      " [0 0]]\n"
     ]
    }
   ],
   "source": [
    "y_pre = ann.predict(X_test)\n",
    "y_pred = (y_pre > 0.5)\n",
    "print(np.concatenate((y_pred.reshape(len(y_pred),1), y_test.reshape(len(y_test),1)),1))"
   ]
  },
  {
   "cell_type": "markdown",
   "metadata": {
    "colab_type": "text",
    "id": "o0oyfLWoaEGw"
   },
   "source": [
    "### Making the Confusion Matrix"
   ]
  },
  {
   "cell_type": "code",
   "execution_count": 22,
   "metadata": {
    "colab": {
     "base_uri": "https://localhost:8080/",
     "height": 68
    },
    "colab_type": "code",
    "id": "ci6K_r6LaF6P",
    "outputId": "4d854e9e-22d5-432f-f6e5-a102fe3ae0bd"
   },
   "outputs": [
    {
     "name": "stdout",
     "output_type": "stream",
     "text": [
      "Confusion matrix:\n",
      "[[18121   176]\n",
      " [  598  1105]]\n",
      "              precision    recall  f1-score   support\n",
      "\n",
      "      normal     0.9681    0.9904    0.9791     18297\n",
      "    diabetes     0.8626    0.6489    0.7406      1703\n",
      "\n",
      "    accuracy                         0.9613     20000\n",
      "   macro avg     0.9153    0.8196    0.8599     20000\n",
      "weighted avg     0.9591    0.9613    0.9588     20000\n",
      "\n"
     ]
    }
   ],
   "source": [
    "cm = confusion_matrix(y_test, y_pred)\n",
    "print('Confusion matrix:')\n",
    "print(cm)\n",
    "print(classification_report(y_test, y_pred, target_names=[\"normal\",\"diabetes\"], digits= 4))"
   ]
  },
  {
   "cell_type": "code",
   "execution_count": 23,
   "metadata": {
    "scrolled": true
   },
   "outputs": [
    {
     "data": {
      "image/png": "[encoded data removed]",
      "text/plain": [
       "<Figure size 750x750 with 1 Axes>"
      ]
     },
     "metadata": {},
     "output_type": "display_data"
    }
   ],
   "source": [
    "fig, ax = plt.subplots(figsize=(7.5, 7.5))\n",
    "ax.matshow(cm, cmap=plt.cm.Blues, alpha=0.3)\n",
    "for i in range(cm.shape[0]):\n",
    "    for j in range(cm.shape[1]):\n",
    "        ax.text(x=j, y=i,s=cm[i, j], va='center', ha='center', size='xx-large')\n",
    " \n",
    "plt.xlabel('Predictions', fontsize=18)\n",
    "plt.ylabel('Actuals', fontsize=18)\n",
    "plt.title('Confusion Matrix', fontsize=18)\n",
    "plt.show()"
   ]
  },
  {
   "cell_type": "markdown",
   "metadata": {},
   "source": [
    "### Threshold Adjustments \n",
    "(Code taken from our thesis)"
   ]
  },
  {
   "cell_type": "code",
   "execution_count": 26,
   "metadata": {},
   "outputs": [
    {
     "name": "stdout",
     "output_type": "stream",
     "text": [
      "\n",
      "Best accuracy           - threshold [0.62,0.38] -> 96.2%\n",
      "Best diabetes precision - threshold [0.795,0.205] -> 95.98%\n",
      "Best weighted precision - threshold [0.67,0.33] -> 96.09%\n",
      "Best diabetes recall    - threshold [0.4,0.6] -> 67.82%\n",
      "Best weighted recall    - threshold [0.62,0.38] -> 96.2%\n",
      "Best diabetes f1-score  - threshold [0.48,0.52] -> 74.27%\n",
      "Best weighted f1-score  - threshold [0.485,0.515] -> 95.9%\n",
      "\n",
      "Threshold used for adjusted predictions is: [ 0.485 , 0.515 ]\n",
      "\n",
      "Confusion matrix:\n",
      "[[18112   185]\n",
      " [  588  1115]]\n",
      "              precision    recall  f1-score   support\n",
      "\n",
      "      normal     0.9686    0.9899    0.9791     18297\n",
      "    diabetes     0.8577    0.6547    0.7426      1703\n",
      "\n",
      "    accuracy                         0.9614     20000\n",
      "   macro avg     0.9131    0.8223    0.8608     20000\n",
      "weighted avg     0.9591    0.9614    0.9590     20000\n",
      "\n",
      "Change in accuracy           : 0.005 %\n",
      "Change in diabetes precision : -0.492 %\n",
      "Change in weighted precision : 0.004 %\n",
      "Change in diabetes recall    : 0.587 %\n",
      "Change in weighted recall    : 0.005 %\n",
      "Change in diabetes F1-score  : 0.197 %\n",
      "Change in weighted F1-score  : 0.018 %\n",
      "\n"
     ]
    }
   ],
   "source": [
    "# experimenting thresholds\n",
    "acc_list = []\n",
    "pre_list = []\n",
    "w_pre_list = []\n",
    "rec_list = []\n",
    "w_rec_list = []\n",
    "f1_list = []\n",
    "w_f1_list = []\n",
    "\n",
    "for x in range(81):\n",
    "  thresholds = 0.4 + x*0.005\n",
    "  y_pred_adjusted = (y_pre >= thresholds).astype(int)\n",
    "\n",
    "  acc_list.append(accuracy_score(y_test, y_pred_adjusted))\n",
    "  pre_list.append(precision_score(y_test, y_pred_adjusted, pos_label= 1))\n",
    "  w_pre_list.append(precision_score(y_test, y_pred_adjusted, average='weighted'))\n",
    "  rec_list.append(recall_score(y_test, y_pred_adjusted, pos_label= 1))\n",
    "  w_rec_list.append(recall_score(y_test, y_pred_adjusted, average='weighted'))\n",
    "  f1_list.append(f1_score(y_test, y_pred_adjusted, pos_label= 1))\n",
    "  w_f1_list.append(f1_score(y_test, y_pred_adjusted, average='weighted'))\n",
    "\n",
    "# results\n",
    "best_acc_ndx = np.argmax(np.array(acc_list))\n",
    "best_pre_ndx = np.argmax(np.array(pre_list))\n",
    "best_w_pre_ndx = np.argmax(np.array(w_pre_list))\n",
    "best_rec_ndx = np.argmax(np.array(rec_list))\n",
    "best_w_rec_ndx = np.argmax(np.array(w_rec_list))\n",
    "best_f1_ndx = np.argmax(np.array(f1_list))\n",
    "best_w_f1_ndx = np.argmax(np.array(w_f1_list))\n",
    "\n",
    "print()\n",
    "print(f'Best accuracy           - threshold [{round(0.4+0.005*best_acc_ndx,3)},{round(0.6-0.005*best_acc_ndx,3)}] -> {round(acc_list[best_acc_ndx]*100,2)}%')\n",
    "print(f'Best diabetes precision - threshold [{round(0.4+0.005*best_pre_ndx,3)},{round(0.6-0.005*best_pre_ndx,3)}] -> {round(pre_list[best_pre_ndx]*100,2)}%')\n",
    "print(f'Best weighted precision - threshold [{round(0.4+0.005*best_w_pre_ndx,3)},{round(0.6-0.005*best_w_pre_ndx,3)}] -> {round(w_pre_list[best_w_pre_ndx]*100,2)}%')\n",
    "print(f'Best diabetes recall    - threshold [{round(0.4+0.005*best_rec_ndx,3)},{round(0.6-0.005*best_rec_ndx,3)}] -> {round(rec_list[best_rec_ndx]*100,2)}%')\n",
    "print(f'Best weighted recall    - threshold [{round(0.4+0.005*best_w_rec_ndx,3)},{round(0.6-0.005*best_w_rec_ndx,3)}] -> {round(w_rec_list[best_w_rec_ndx]*100,2)}%')\n",
    "print(f'Best diabetes f1-score  - threshold [{round(0.4+0.005*best_f1_ndx,3)},{round(0.6-0.005*best_f1_ndx,3)}] -> {round(f1_list[best_f1_ndx]*100,2)}%')\n",
    "print(f'Best weighted f1-score  - threshold [{round(0.4+0.005*best_w_f1_ndx,3)},{round(0.6-0.005*best_w_f1_ndx,3)}] -> {round(w_f1_list[best_w_f1_ndx]*100,2)}%')\n",
    "print()\n",
    "\n",
    "# Apply the chosen threshold\n",
    "best_ndx = best_w_f1_ndx # Here we use Weighted F1 score. Change here if you want a different criteria\n",
    "\n",
    "thresholds = round(0.4+0.005*best_ndx,3)\n",
    "y_pred_adjusted = (y_pre >= thresholds).astype(int) # Applying the adjusted thresholds for each class\n",
    "cm = confusion_matrix(y_test, y_pred_adjusted)\n",
    "\n",
    "#print adjusted metrics\n",
    "print(f'Threshold used for adjusted predictions is: [ {round(0.4+0.005*best_ndx,3)} , {round(0.6-0.005*best_ndx,3)} ]')\n",
    "print('')\n",
    "print('Confusion matrix:')\n",
    "print(cm)\n",
    "print(classification_report(y_test, y_pred_adjusted, target_names= [\"normal\",\"diabetes\"], digits= 4))\n",
    "\n",
    "print(f'Change in accuracy           : {round((acc_list[best_ndx]-acc_list[20])*100,3)} %')\n",
    "print(f'Change in diabetes precision : {round((pre_list[best_ndx]-pre_list[20])*100,3)} %')\n",
    "print(f'Change in weighted precision : {round((w_pre_list[best_ndx]-w_pre_list[20])*100,3)} %')\n",
    "print(f'Change in diabetes recall    : {round((rec_list[best_ndx]-rec_list[20])*100,3)} %')\n",
    "print(f'Change in weighted recall    : {round((w_rec_list[best_ndx]-w_rec_list[20])*100,3)} %')\n",
    "print(f'Change in diabetes F1-score  : {round((f1_list[best_ndx]-f1_list[20])*100,3)} %')\n",
    "print(f'Change in weighted F1-score  : {round((w_f1_list[best_ndx]-w_f1_list[20])*100,3)} %')\n",
    "print()\n"
   ]
  }
 ],
 "metadata": {
  "colab": {
   "collapsed_sections": [],
   "name": "artificial_neural_network.ipynb",
   "provenance": [],
   "toc_visible": true
  },
  "kernelspec": {
   "display_name": "Python 3 (ipykernel)",
   "language": "python",
   "name": "python3"
  },
  "language_info": {
   "codemirror_mode": {
    "name": "ipython",
    "version": 3
   },
   "file_extension": ".py",
   "mimetype": "text/x-python",
   "name": "python",
   "nbconvert_exporter": "python",
   "pygments_lexer": "ipython3",
   "version": "3.10.11"
  }
 },
 "nbformat": 4,
 "nbformat_minor": 1
}
